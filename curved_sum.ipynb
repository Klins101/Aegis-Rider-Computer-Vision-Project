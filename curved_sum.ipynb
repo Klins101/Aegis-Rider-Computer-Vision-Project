{
 "cells": [
  {
   "cell_type": "code",
   "execution_count": 1,
   "id": "82a76428",
   "metadata": {},
   "outputs": [],
   "source": [
    "#importing required models\n",
    "import os\n",
    "import shutil\n",
    "import pandas as pd\n",
    "import numpy as np\n",
    "import matplotlib.pyplot as plt\n",
    "import torch\n",
    "import torch.nn as nn\n",
    "import torch.nn.functional as F\n",
    "import torch.optim as optim\n",
    "from torchvision import datasets, transforms\n",
    "from torch.utils.data import DataLoader\n",
    "import cv2\n",
    "from PIL import Image"
   ]
  },
  {
   "cell_type": "markdown",
   "id": "31a8f719",
   "metadata": {},
   "source": [
    "### Preparing Data for Deep Learning"
   ]
  },
  {
   "cell_type": "code",
   "execution_count": 2,
   "id": "ba394a28",
   "metadata": {},
   "outputs": [],
   "source": [
    "path = \"curve_images\"\n",
    "for folder in os.listdir(path):\n",
    "    for img_file in os.listdir(os.path.join(path, folder)):\n",
    "        img_file = os.path.join(path, folder, img_file)\n",
    "        \n",
    "        try:\n",
    "            img = Image.open(img_file)\n",
    "            if img.mode != \"RGB\":\n",
    "                os.remove(img_file)\n",
    "        except:\n",
    "            pass\n",
    "        "
   ]
  },
  {
   "cell_type": "code",
   "execution_count": 3,
   "id": "09bb8f14",
   "metadata": {},
   "outputs": [],
   "source": [
    "transform = transforms.Compose([\n",
    "    transforms.Resize((224, 224)),\n",
    "    transforms.CenterCrop(224),\n",
    "    transforms.ToTensor(),\n",
    "    transforms.Normalize([0.5], [0.5]),\n",
    "])"
   ]
  },
  {
   "cell_type": "code",
   "execution_count": 6,
   "id": "8e4125f4",
   "metadata": {},
   "outputs": [],
   "source": [
    "# creating an image dataset folder for classification\n",
    "dataset = datasets.ImageFolder(\"curve_images\", transform=transform)\n",
    "dataset_len = len(dataset)"
   ]
  },
  {
   "cell_type": "code",
   "execution_count": 7,
   "id": "4ca5d213",
   "metadata": {},
   "outputs": [
    {
     "data": {
      "text/plain": [
       "4517"
      ]
     },
     "execution_count": 7,
     "metadata": {},
     "output_type": "execute_result"
    }
   ],
   "source": [
    "dataset_len"
   ]
  },
  {
   "cell_type": "code",
   "execution_count": 8,
   "id": "20e8f37f",
   "metadata": {},
   "outputs": [
    {
     "data": {
      "text/plain": [
       "3517"
      ]
     },
     "execution_count": 8,
     "metadata": {},
     "output_type": "execute_result"
    }
   ],
   "source": [
    "# Divide dataset into train and test set\n",
    "train_len, test_len = dataset_len-1000, 1000\n",
    "train_set, test_set = torch.utils.data.random_split(dataset, [train_len, test_len])\n",
    "batch_size = 192\n",
    "len(train_set)"
   ]
  },
  {
   "cell_type": "code",
   "execution_count": 9,
   "id": "00f8e9ec",
   "metadata": {},
   "outputs": [
    {
     "data": {
      "text/plain": [
       "19"
      ]
     },
     "execution_count": 9,
     "metadata": {},
     "output_type": "execute_result"
    }
   ],
   "source": [
    "# Create dataloader from train and test sets\n",
    "train_set = DataLoader(dataset=train_set, shuffle=True, batch_size=batch_size)\n",
    "test_set = DataLoader(dataset=test_set, shuffle=True, batch_size=batch_size)\n",
    "len(train_set)"
   ]
  },
  {
   "cell_type": "markdown",
   "id": "70f1e6e3",
   "metadata": {},
   "source": [
    "### Build Deep Learning Model"
   ]
  },
  {
   "cell_type": "code",
   "execution_count": 10,
   "id": "fe531eb1",
   "metadata": {},
   "outputs": [
    {
     "name": "stdout",
     "output_type": "stream",
     "text": [
      "using device cpu\n"
     ]
    }
   ],
   "source": [
    "device = torch.device(\"cuda\" if torch.cuda.is_available() else \"cpu\")\n",
    "print(\"using device\", device)"
   ]
  },
  {
   "cell_type": "code",
   "execution_count": 11,
   "id": "3dbf4eb4",
   "metadata": {},
   "outputs": [],
   "source": [
    "learning_rate = 0.001"
   ]
  },
  {
   "cell_type": "markdown",
   "id": "0334aaf5",
   "metadata": {},
   "source": [
    "### Deep Learning Model"
   ]
  },
  {
   "cell_type": "code",
   "execution_count": 12,
   "id": "6ff3c096",
   "metadata": {},
   "outputs": [],
   "source": [
    "class Model(nn.Module): \n",
    "    def __init__(self):\n",
    "        super(Model, self).__init__()\n",
    "        self.conv1 = nn.Conv2d(in_channels=3, out_channels=10, kernel_size=3)\n",
    "        self.conv2 = nn.Conv2d(10, 20, kernel_size=3)\n",
    "        self.conv2_drop = nn.Dropout2d()\n",
    "        self.fc1 = nn.Linear(58320, 1024)\n",
    "        self.fc2 = nn.Linear(1024, 2)\n",
    "\n",
    "    def forward(self, x):\n",
    "        x = F.relu(F.max_pool2d(self.conv1(x), 2))\n",
    "        x = F.relu(F.max_pool2d(self.conv2_drop(self.conv2(x)), 2))\n",
    "        x = x.view(x.shape[0],-1)\n",
    "        x = F.relu(self.fc1(x))\n",
    "        x = F.dropout(x, training=self.training)\n",
    "        x = self.fc2(x)\n",
    "        return x"
   ]
  },
  {
   "cell_type": "code",
   "execution_count": 13,
   "id": "04923474",
   "metadata": {},
   "outputs": [
    {
     "name": "stdout",
     "output_type": "stream",
     "text": [
      "Model(\n",
      "  (conv1): Conv2d(3, 10, kernel_size=(3, 3), stride=(1, 1))\n",
      "  (conv2): Conv2d(10, 20, kernel_size=(3, 3), stride=(1, 1))\n",
      "  (conv2_drop): Dropout2d(p=0.5, inplace=False)\n",
      "  (fc1): Linear(in_features=58320, out_features=1024, bias=True)\n",
      "  (fc2): Linear(in_features=1024, out_features=2, bias=True)\n",
      ")\n"
     ]
    }
   ],
   "source": [
    "model = Model().to(device)\n",
    "print(model)"
   ]
  },
  {
   "cell_type": "code",
   "execution_count": 14,
   "id": "f629503b",
   "metadata": {},
   "outputs": [],
   "source": [
    "# Define loss function\n",
    "criterion = nn.CrossEntropyLoss()\n",
    "optimizer = torch.optim.Adam(model.parameters(),lr = learning_rate)"
   ]
  },
  {
   "cell_type": "markdown",
   "id": "c7ce2571",
   "metadata": {},
   "source": [
    "### Train model"
   ]
  },
  {
   "cell_type": "code",
   "execution_count": 15,
   "id": "382edcfe",
   "metadata": {},
   "outputs": [
    {
     "name": "stdout",
     "output_type": "stream",
     "text": [
      "Epoch: 0, loss = 1.7767515265707743, Accuracy = 57.00881433039522%\n",
      "Epoch: 1, loss = 0.6096417224471596, Accuracy = 68.83707705430766%\n",
      "Epoch: 2, loss = 0.519409320877803, Accuracy = 76.25817458060847%\n",
      "Epoch: 3, loss = 0.4016234049886541, Accuracy = 83.76457207847598%\n",
      "Epoch: 4, loss = 0.31115366141837464, Accuracy = 87.65993744668752%\n",
      "Epoch: 5, loss = 0.23643236888854857, Accuracy = 91.47000284333238%\n",
      "Epoch: 6, loss = 0.19014201459218263, Accuracy = 92.86323571225476%\n",
      "Epoch: 7, loss = 0.15867235221102186, Accuracy = 94.54080181973272%\n",
      "Epoch: 8, loss = 0.1279676636325591, Accuracy = 95.67813477395507%\n",
      "Epoch: 9, loss = 0.09343711479350116, Accuracy = 96.73016775661075%\n",
      "Finished Training\n"
     ]
    }
   ],
   "source": [
    "train_losses = []\n",
    "for epoch in range(10):\n",
    "    train_loss = 0.0\n",
    "    total_correct = 0\n",
    "    model.train()\n",
    "    for data, target in train_set:\n",
    "  \n",
    "        optimizer.zero_grad()\n",
    "        #forward-pass\n",
    "        output = model(data)\n",
    "        \n",
    "        output_idx = torch.argmax(output, dim=1)\n",
    "        total_correct += (target == output_idx).sum().item()\n",
    "        \n",
    "        loss = criterion(output, target)\n",
    "        #backward-pass\n",
    "        loss.backward()\n",
    "        # Update the parameters\n",
    "        optimizer.step()\n",
    "        # Update the Training loss\n",
    "        train_loss += loss.item() * data.size(0)\n",
    "    \n",
    "    print(f\"Epoch: {epoch}, loss = {train_loss/train_len}, Accuracy = {(total_correct/train_len)*100}%\")\n",
    "print(\"Finished Training\")    "
   ]
  },
  {
   "cell_type": "markdown",
   "id": "7b5ba7bf",
   "metadata": {},
   "source": [
    "### Test model"
   ]
  },
  {
   "cell_type": "code",
   "execution_count": 16,
   "id": "b877e872",
   "metadata": {},
   "outputs": [
    {
     "name": "stdout",
     "output_type": "stream",
     "text": [
      "loss = 0.0994840259552002, Accuracy = 97.19999694824219%\n"
     ]
    }
   ],
   "source": [
    "with torch.no_grad():\n",
    "    model.eval()\n",
    "    total_loss = 0\n",
    "    total_correct = 0\n",
    "    for data, target in test_set:\n",
    "        data, target = data.to(device), target.to(device)\n",
    "        outputs = model(data)\n",
    "        loss = criterion(outputs, target)\n",
    "        total_loss += loss.item() * data.size(0)\n",
    "        output_idx = torch.argmax(outputs, dim=1)\n",
    "        total_correct += (target == output_idx).sum()\n",
    "    \n",
    "    print(f\"loss = {total_loss/test_len}, Accuracy = {(total_correct/test_len)*100}%\")"
   ]
  },
  {
   "cell_type": "markdown",
   "id": "f44132e2",
   "metadata": {},
   "source": [
    "### Save Model"
   ]
  },
  {
   "cell_type": "code",
   "execution_count": 17,
   "id": "bcca0112",
   "metadata": {},
   "outputs": [],
   "source": [
    "# Save model\n",
    "model_scripted = torch.jit.script(model) # Export to TorchScript\n",
    "model_scripted.save(\"aegis_curve.pt\") "
   ]
  },
  {
   "cell_type": "code",
   "execution_count": 18,
   "id": "d5671959",
   "metadata": {},
   "outputs": [
    {
     "data": {
      "text/plain": [
       "RecursiveScriptModule(\n",
       "  original_name=Model\n",
       "  (conv1): RecursiveScriptModule(original_name=Conv2d)\n",
       "  (conv2): RecursiveScriptModule(original_name=Conv2d)\n",
       "  (conv2_drop): RecursiveScriptModule(original_name=Dropout2d)\n",
       "  (fc1): RecursiveScriptModule(original_name=Linear)\n",
       "  (fc2): RecursiveScriptModule(original_name=Linear)\n",
       ")"
      ]
     },
     "execution_count": 18,
     "metadata": {},
     "output_type": "execute_result"
    }
   ],
   "source": [
    "# Load model\n",
    "model = torch.jit.load(\"aegis_curve.pt\")\n",
    "model.eval()"
   ]
  },
  {
   "cell_type": "code",
   "execution_count": 25,
   "id": "516aa1e5",
   "metadata": {},
   "outputs": [],
   "source": [
    "#Function to check if a frame is part of the curve frames \n",
    "def check_speed(path):\n",
    "    img = Image.open(path)\n",
    "    img = transform(img).unsqueeze(dim=0).to(device)\n",
    "    prediction = model(img)\n",
    "    v = prediction.detach().numpy()\n",
    "    y = v.tolist()\n",
    "    if y[0][0] > y[0][-1] :\n",
    "        return True\n",
    "    return False"
   ]
  },
  {
   "cell_type": "code",
   "execution_count": 26,
   "id": "79b4b494",
   "metadata": {},
   "outputs": [],
   "source": [
    "video = cv2.VideoCapture(\"test_videos/bern_3.mp4\")\n",
    "width = int(video.get(cv2.CAP_PROP_FRAME_WIDTH))\n",
    "height = int(video.get(cv2.CAP_PROP_FRAME_HEIGHT))"
   ]
  },
  {
   "cell_type": "code",
   "execution_count": 27,
   "id": "644da29f",
   "metadata": {},
   "outputs": [],
   "source": [
    "#writer object to write selected frames\n",
    "writer = cv2.VideoWriter(\"sum_vid/final_curve.mp4\", cv2.VideoWriter_fourcc(*\"DIVX\"), 25, (width, height))"
   ]
  },
  {
   "cell_type": "code",
   "execution_count": 28,
   "id": "cdeba226",
   "metadata": {},
   "outputs": [],
   "source": [
    "ret, frame1 = video.read()\n",
    "prev_frame = frame1"
   ]
  },
  {
   "cell_type": "code",
   "execution_count": 29,
   "id": "17cfdead",
   "metadata": {},
   "outputs": [],
   "source": [
    "currentframe = 0\n",
    "a = 0\n",
    "b = 0\n",
    "c = 0"
   ]
  },
  {
   "cell_type": "code",
   "execution_count": 30,
   "id": "b9a33064",
   "metadata": {},
   "outputs": [
    {
     "name": "stdout",
     "output_type": "stream",
     "text": [
      "Total Frames:  2997\n",
      "Unique Frames:  True\n",
      "Common Frames:  2517\n"
     ]
    }
   ],
   "source": [
    "while ret:\n",
    "    ret, frame = video.read()\n",
    "    if ret is True:\n",
    "        name = 'frame' + str(currentframe) + '.jpg'\n",
    "        a = cv2.imwrite(name, frame)\n",
    "        currentframe += 1\n",
    "        if check_speed(name) == True: #Check if a frame is part of speed frame\n",
    "            writer.write(frame) #Write the frame into the writer\n",
    "            prev_frame = frame\n",
    "            a += int(1)\n",
    "            \n",
    "        else:\n",
    "            prev_frame = frame\n",
    "            b += 1\n",
    "            \n",
    "            \n",
    "        c += 1\n",
    "        os.remove(name)\n",
    "        \n",
    "    #if cv2.waitKey(1) & 0xFF == ord(\"q\"):\n",
    "       # break\n",
    "        \n",
    "print(\"Total Frames: \", c)\n",
    "print(\"Unique Frames: \", a)\n",
    "print(\"Common Frames: \", b)\n",
    "video.release()\n",
    "writer.release()\n",
    "cv2.destroyAllWindows()"
   ]
  },
  {
   "cell_type": "code",
   "execution_count": null,
   "id": "837126ea",
   "metadata": {},
   "outputs": [],
   "source": []
  }
 ],
 "metadata": {
  "kernelspec": {
   "display_name": "Python 3",
   "language": "python",
   "name": "python3"
  },
  "language_info": {
   "codemirror_mode": {
    "name": "ipython",
    "version": 3
   },
   "file_extension": ".py",
   "mimetype": "text/x-python",
   "name": "python",
   "nbconvert_exporter": "python",
   "pygments_lexer": "ipython3",
   "version": "3.8.8"
  }
 },
 "nbformat": 4,
 "nbformat_minor": 5
}
